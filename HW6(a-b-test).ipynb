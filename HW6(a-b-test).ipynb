{
 "cells": [
  {
   "cell_type": "markdown",
   "id": "dc483f7c",
   "metadata": {},
   "source": [
    "# Домашнее задание №6\n",
    "### Задача №1\n",
    "Продакт на главной mail.ru решил протестировать в рекомендательной ленте контента вместо карточек со статьями видеоплеер с короткими видео. Нынешний таймспент на юзера в день в среднем равен 25 минут, а стандартная ошибка (SD) равна 156. Мы предполагаем, что в новой версии таймспент на юзера в день изменится на 10%. Средний трафик 20000 человек в день. Посчитайте сколько дней необходимо держать эксперимент при alpha = 5% и beta = 20% ."
   ]
  },
  {
   "cell_type": "markdown",
   "id": "27dfc77e",
   "metadata": {},
   "source": [
    "Подставляем данные в калькулятор:\n",
    "![task1](./dz61.png)"
   ]
  },
  {
   "cell_type": "markdown",
   "id": "f2b085c9",
   "metadata": {},
   "source": [
    "Для выполнения эксперимента необходимо: 122248 человек"
   ]
  },
  {
   "cell_type": "code",
   "execution_count": 4,
   "id": "6fef18eb",
   "metadata": {},
   "outputs": [
    {
     "data": {
      "text/plain": [
       "7"
      ]
     },
     "execution_count": 4,
     "metadata": {},
     "output_type": "execute_result"
    }
   ],
   "source": [
    "import math\n",
    "math.ceil(122248/20000)"
   ]
  },
  {
   "cell_type": "markdown",
   "id": "c437661f",
   "metadata": {},
   "source": [
    "> Ответ: для эксперимента при alpha = 5% и beta = 20%, потребуется **7 дней**"
   ]
  },
  {
   "cell_type": "markdown",
   "id": "68a34864",
   "metadata": {},
   "source": [
    "### Задача №2\n",
    "Наша продуктовая команда в ecommerce магазине планирует запустить тест, направленный на ускорение загрузки сайта. Одна из основных метрик bounce rate в GA = 40%. Мы предполагаем, что при оптимизации сайта она изменится минимум на 20%.Средний трафик 4000 человек в день. Посчитайте сколько нам нужно дней держать эксперимент при alpha = 5% и beta = 20%"
   ]
  },
  {
   "cell_type": "markdown",
   "id": "07fea10b",
   "metadata": {},
   "source": [
    "Подставляем данные в калькулятор:\n",
    "![task2](./dz62.png)"
   ]
  },
  {
   "cell_type": "code",
   "execution_count": 6,
   "id": "ad7a8828",
   "metadata": {},
   "outputs": [
    {
     "data": {
      "text/plain": [
       "1"
      ]
     },
     "execution_count": 6,
     "metadata": {},
     "output_type": "execute_result"
    }
   ],
   "source": [
    "import math\n",
    "math.ceil(592/4000)"
   ]
  },
  {
   "cell_type": "markdown",
   "id": "a9ce0bc7",
   "metadata": {},
   "source": [
    "> Ответ: для эксперимента при alpha = 5% и beta = 20%, потребуется **1 день**"
   ]
  },
  {
   "cell_type": "code",
   "execution_count": null,
   "id": "fa141834",
   "metadata": {},
   "outputs": [],
   "source": []
  }
 ],
 "metadata": {
  "kernelspec": {
   "display_name": "Python 3 (ipykernel)",
   "language": "python",
   "name": "python3"
  },
  "language_info": {
   "codemirror_mode": {
    "name": "ipython",
    "version": 3
   },
   "file_extension": ".py",
   "mimetype": "text/x-python",
   "name": "python",
   "nbconvert_exporter": "python",
   "pygments_lexer": "ipython3",
   "version": "3.9.13"
  }
 },
 "nbformat": 4,
 "nbformat_minor": 5
}
