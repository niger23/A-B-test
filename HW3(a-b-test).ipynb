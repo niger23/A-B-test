{
 "cells": [
  {
   "cell_type": "markdown",
   "id": "5a6f1a41",
   "metadata": {},
   "source": [
    "# Домашнее задание №3\n",
    "Настроить а/б тест на сайте с 3-мя изменениями"
   ]
  },
  {
   "cell_type": "markdown",
   "id": "dd03f1af",
   "metadata": {},
   "source": [
    "1. Заполняем название, вводим URL и выбираем проект оптимизации:\n",
    "![task1](./dz31.png)"
   ]
  },
  {
   "cell_type": "markdown",
   "id": "0acb3e88",
   "metadata": {},
   "source": [
    "2. Добавляем вариант, отличный от исходного:\n",
    "![task2](./dz32.png)"
   ]
  },
  {
   "cell_type": "markdown",
   "id": "ac3462ed",
   "metadata": {},
   "source": [
    "3. Вносим изменения:\n",
    "![task3](./dz33.png)"
   ]
  },
  {
   "cell_type": "markdown",
   "id": "b796cf5a",
   "metadata": {},
   "source": [
    "4. Выбираем сайт, целевую аудиторию\n",
    "![task4](./dz34.png)"
   ]
  },
  {
   "attachments": {},
   "cell_type": "markdown",
   "id": "7ba2dd72",
   "metadata": {},
   "source": [
    "5. Заполняем цели\n",
    "![task5](./dz35.png)"
   ]
  },
  {
   "cell_type": "markdown",
   "id": "04acad10",
   "metadata": {},
   "source": [
    "6. Заполняем распредение трафика и запускаем\n",
    "![task6](./dz36.png)"
   ]
  },
  {
   "cell_type": "code",
   "execution_count": null,
   "id": "f885136b",
   "metadata": {},
   "outputs": [],
   "source": []
  }
 ],
 "metadata": {
  "kernelspec": {
   "display_name": "Python 3 (ipykernel)",
   "language": "python",
   "name": "python3"
  },
  "language_info": {
   "codemirror_mode": {
    "name": "ipython",
    "version": 3
   },
   "file_extension": ".py",
   "mimetype": "text/x-python",
   "name": "python",
   "nbconvert_exporter": "python",
   "pygments_lexer": "ipython3",
   "version": "3.9.13"
  }
 },
 "nbformat": 4,
 "nbformat_minor": 5
}
